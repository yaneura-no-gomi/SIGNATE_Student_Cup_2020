{
 "cells": [
  {
   "cell_type": "code",
   "execution_count": 1,
   "metadata": {},
   "outputs": [],
   "source": [
    "import os\n",
    "import pandas as pd"
   ]
  },
  {
   "cell_type": "markdown",
   "metadata": {},
   "source": [
    "## データ読み込み"
   ]
  },
  {
   "cell_type": "code",
   "execution_count": 3,
   "metadata": {},
   "outputs": [
    {
     "data": {
      "text/html": [
       "<div>\n",
       "<style scoped>\n",
       "    .dataframe tbody tr th:only-of-type {\n",
       "        vertical-align: middle;\n",
       "    }\n",
       "\n",
       "    .dataframe tbody tr th {\n",
       "        vertical-align: top;\n",
       "    }\n",
       "\n",
       "    .dataframe thead th {\n",
       "        text-align: right;\n",
       "    }\n",
       "</style>\n",
       "<table border=\"1\" class=\"dataframe\">\n",
       "  <thead>\n",
       "    <tr style=\"text-align: right;\">\n",
       "      <th></th>\n",
       "      <th>id</th>\n",
       "      <th>description</th>\n",
       "      <th>jobflag</th>\n",
       "    </tr>\n",
       "  </thead>\n",
       "  <tbody>\n",
       "    <tr>\n",
       "      <th>0</th>\n",
       "      <td>0</td>\n",
       "      <td>Executes and writes portions of testing plans,...</td>\n",
       "      <td>2.0</td>\n",
       "    </tr>\n",
       "    <tr>\n",
       "      <th>1</th>\n",
       "      <td>1</td>\n",
       "      <td>Maintain Network Performance by assisting with...</td>\n",
       "      <td>3.0</td>\n",
       "    </tr>\n",
       "    <tr>\n",
       "      <th>2</th>\n",
       "      <td>2</td>\n",
       "      <td>Supports the regional compliance manager with ...</td>\n",
       "      <td>4.0</td>\n",
       "    </tr>\n",
       "    <tr>\n",
       "      <th>3</th>\n",
       "      <td>3</td>\n",
       "      <td>Keep up to date with local and national busine...</td>\n",
       "      <td>1.0</td>\n",
       "    </tr>\n",
       "    <tr>\n",
       "      <th>4</th>\n",
       "      <td>4</td>\n",
       "      <td>Assist with Service Organization Control (SOC)...</td>\n",
       "      <td>4.0</td>\n",
       "    </tr>\n",
       "    <tr>\n",
       "      <th>...</th>\n",
       "      <td>...</td>\n",
       "      <td>...</td>\n",
       "      <td>...</td>\n",
       "    </tr>\n",
       "    <tr>\n",
       "      <th>1738</th>\n",
       "      <td>4669</td>\n",
       "      <td>Conduct data analysis to make business recomme...</td>\n",
       "      <td>NaN</td>\n",
       "    </tr>\n",
       "    <tr>\n",
       "      <th>1739</th>\n",
       "      <td>4670</td>\n",
       "      <td>Obtain shipping bills of lading and necessary ...</td>\n",
       "      <td>NaN</td>\n",
       "    </tr>\n",
       "    <tr>\n",
       "      <th>1740</th>\n",
       "      <td>4671</td>\n",
       "      <td>Connect and collaborate with subject matter ex...</td>\n",
       "      <td>NaN</td>\n",
       "    </tr>\n",
       "    <tr>\n",
       "      <th>1741</th>\n",
       "      <td>4672</td>\n",
       "      <td>Ensures continuity of business execution i.e. ...</td>\n",
       "      <td>NaN</td>\n",
       "    </tr>\n",
       "    <tr>\n",
       "      <th>1742</th>\n",
       "      <td>4673</td>\n",
       "      <td>The team will be involved in providing virtual...</td>\n",
       "      <td>NaN</td>\n",
       "    </tr>\n",
       "  </tbody>\n",
       "</table>\n",
       "<p>4674 rows × 3 columns</p>\n",
       "</div>"
      ],
      "text/plain": [
       "        id                                        description  jobflag\n",
       "0        0  Executes and writes portions of testing plans,...      2.0\n",
       "1        1  Maintain Network Performance by assisting with...      3.0\n",
       "2        2  Supports the regional compliance manager with ...      4.0\n",
       "3        3  Keep up to date with local and national busine...      1.0\n",
       "4        4  Assist with Service Organization Control (SOC)...      4.0\n",
       "...    ...                                                ...      ...\n",
       "1738  4669  Conduct data analysis to make business recomme...      NaN\n",
       "1739  4670  Obtain shipping bills of lading and necessary ...      NaN\n",
       "1740  4671  Connect and collaborate with subject matter ex...      NaN\n",
       "1741  4672  Ensures continuity of business execution i.e. ...      NaN\n",
       "1742  4673  The team will be involved in providing virtual...      NaN\n",
       "\n",
       "[4674 rows x 3 columns]"
      ]
     },
     "execution_count": 3,
     "metadata": {},
     "output_type": "execute_result"
    }
   ],
   "source": [
    "train = pd.read_csv(\"../data/train.csv\")\n",
    "test = pd.read_csv(\"../data/test.csv\")\n",
    "all_df = pd.concat([train, test], axis=0)\n",
    "all_df"
   ]
  },
  {
   "cell_type": "markdown",
   "metadata": {},
   "source": [
    "## 最大単語数チェック"
   ]
  },
  {
   "cell_type": "code",
   "execution_count": 9,
   "metadata": {},
   "outputs": [
    {
     "name": "stdout",
     "output_type": "stream",
     "text": [
      "\n",
      "Executes and writes portions of testing plans, protocols, and documentation for assigned portion of application; identifies and debugs issues with code and suggests changes or improvements.\n",
      "\n",
      "Designs, develops, documents, tests and debugs application software. Conducts analysis and collaborates with subject matter experts in the planning, design, development, and utilization of electronic data processing systems for information storage, processing, presentation, manipulation, display, or reporting.  Act as Scrum-of-Scrum Master for 2-3 teams to track cross-team dependencies and resolve barriers  Facilitate Defect Triage meetings and manage the Issue Analysis process  Conduct key formal peer reviews, collect key metrics to facilitate a learning organization  Ensure Definition-of-Ready and Definition-of-Done criteria being met  Facilitate common software requirements analysis across multiple projects  Assist Chief Software Engineer and Technical Program Managers with overall continuous technical process improvements\n",
      "\n",
      "Work with technology and business stakeholders across different business lines or functions to understand their front to back business processes & data architectures, identify inefficiencies and opportunities for automation, apply process engineering & automation methodologies to achieve Business Transformation objectives, Lead the evaluation, design, implementation, and management of innovative emerging digital technologies like Process Mining, Task Mining, Business Process Management & Optimization, Robotic Process Automation, Perform business process analysis using process mining tools to create process maps, identify process variants & bottlenecks, and come up with meaningful insights about process, Create data models, customer-specific dashboards and analysis to enable data-driven process impact assessment and recommendations for process optimization through use of enterprise modeling capabilities including but not limited to Process Mining, Leverage strong technical focus and demonstrable experience of architecting technology solutions along with deep business knowledge to realize tangible business benefits through adopting the data strategy and architecture principles, Lead Value Stream Mapping, Business Process Improvement & value creation workshops with stakeholders to understand current state business processes, business needs & challenges and translate them into process mining and transformation plans, Create metrics & KPIs to measure and monitor current process performance as well as ongoing improvements, Build business cases and ROI calculations, leveraging industry benchmarks and best practices\n"
     ]
    }
   ],
   "source": [
    "max_length = 0\n",
    "for d in all_df[\"description\"]:\n",
    "    words = d.split(' ')\n",
    "    if max_length < len(words):\n",
    "        max_length = len(words)\n",
    "        print()\n",
    "        print(d)"
   ]
  },
  {
   "cell_type": "code",
   "execution_count": 7,
   "metadata": {},
   "outputs": [
    {
     "data": {
      "text/plain": [
       "210"
      ]
     },
     "execution_count": 7,
     "metadata": {},
     "output_type": "execute_result"
    }
   ],
   "source": [
    "max_length"
   ]
  },
  {
   "cell_type": "code",
   "execution_count": 13,
   "metadata": {},
   "outputs": [
    {
     "name": "stdout",
     "output_type": "stream",
     "text": [
      "Designs, develops, documents, tests and debugs application software. Conducts analysis and collaborates with subject matter experts in the planning, design, development, and utilization of electronic data processing systems for information storage, processing, presentation, manipulation, display, or reporting.  Act as Scrum-of-Scrum Master for 2-3 teams to track cross-team dependencies and resolve barriers  Facilitate Defect Triage meetings and manage the Issue Analysis process  Conduct key formal peer reviews, collect key metrics to facilitate a learning organization  Ensure Definition-of-Ready and Definition-of-Done criteria being met  Facilitate common software requirements analysis across multiple projects  Assist Chief Software Engineer and Technical Program Managers with overall continuous technical process improvements\n",
      "Work with technology and business stakeholders across different business lines or functions to understand their front to back business processes & data architectures, identify inefficiencies and opportunities for automation, apply process engineering & automation methodologies to achieve Business Transformation objectives, Lead the evaluation, design, implementation, and management of innovative emerging digital technologies like Process Mining, Task Mining, Business Process Management & Optimization, Robotic Process Automation, Perform business process analysis using process mining tools to create process maps, identify process variants & bottlenecks, and come up with meaningful insights about process, Create data models, customer-specific dashboards and analysis to enable data-driven process impact assessment and recommendations for process optimization through use of enterprise modeling capabilities including but not limited to Process Mining, Leverage strong technical focus and demonstrable experience of architecting technology solutions along with deep business knowledge to realize tangible business benefits through adopting the data strategy and architecture principles, Lead Value Stream Mapping, Business Process Improvement & value creation workshops with stakeholders to understand current state business processes, business needs & challenges and translate them into process mining and transformation plans, Create metrics & KPIs to measure and monitor current process performance as well as ongoing improvements, Build business cases and ROI calculations, leveraging industry benchmarks and best practices\n"
     ]
    }
   ],
   "source": [
    "# 128を超える単語のカウント\n",
    "overs = 0\n",
    "for d in all_df[\"description\"]:\n",
    "    words = d.split(' ')\n",
    "    if 100 < len(words):\n",
    "        overs += 1\n",
    "        print(d)"
   ]
  },
  {
   "cell_type": "code",
   "execution_count": 14,
   "metadata": {},
   "outputs": [
    {
     "data": {
      "text/plain": [
       "2"
      ]
     },
     "execution_count": 14,
     "metadata": {},
     "output_type": "execute_result"
    }
   ],
   "source": [
    "overs"
   ]
  },
  {
   "cell_type": "code",
   "execution_count": null,
   "metadata": {},
   "outputs": [],
   "source": []
  },
  {
   "cell_type": "code",
   "execution_count": null,
   "metadata": {},
   "outputs": [],
   "source": []
  },
  {
   "cell_type": "code",
   "execution_count": null,
   "metadata": {},
   "outputs": [],
   "source": []
  }
 ],
 "metadata": {
  "kernelspec": {
   "display_name": "Python 3",
   "language": "python",
   "name": "python3"
  },
  "language_info": {
   "codemirror_mode": {
    "name": "ipython",
    "version": 3
   },
   "file_extension": ".py",
   "mimetype": "text/x-python",
   "name": "python",
   "nbconvert_exporter": "python",
   "pygments_lexer": "ipython3",
   "version": "3.8.5"
  },
  "toc": {
   "base_numbering": 1,
   "nav_menu": {},
   "number_sections": true,
   "sideBar": true,
   "skip_h1_title": false,
   "title_cell": "Table of Contents",
   "title_sidebar": "Contents",
   "toc_cell": false,
   "toc_position": {},
   "toc_section_display": true,
   "toc_window_display": false
  },
  "varInspector": {
   "cols": {
    "lenName": 16,
    "lenType": 16,
    "lenVar": 40
   },
   "kernels_config": {
    "python": {
     "delete_cmd_postfix": "",
     "delete_cmd_prefix": "del ",
     "library": "var_list.py",
     "varRefreshCmd": "print(var_dic_list())"
    },
    "r": {
     "delete_cmd_postfix": ") ",
     "delete_cmd_prefix": "rm(",
     "library": "var_list.r",
     "varRefreshCmd": "cat(var_dic_list()) "
    }
   },
   "types_to_exclude": [
    "module",
    "function",
    "builtin_function_or_method",
    "instance",
    "_Feature"
   ],
   "window_display": false
  }
 },
 "nbformat": 4,
 "nbformat_minor": 4
}
