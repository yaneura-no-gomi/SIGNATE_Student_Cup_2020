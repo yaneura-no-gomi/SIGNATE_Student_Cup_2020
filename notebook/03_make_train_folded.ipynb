{
 "cells": [
  {
   "cell_type": "code",
   "execution_count": 3,
   "metadata": {},
   "outputs": [],
   "source": [
    "import os\n",
    "from sklearn.model_selection import StratifiedKFold\n",
    "import pandas as pd"
   ]
  },
  {
   "cell_type": "code",
   "execution_count": 7,
   "metadata": {},
   "outputs": [],
   "source": [
    "SEED = 42\n",
    "data_dir = os.path.join(os.environ[\"HOME\"], \"Workspace/learning/signate/SIGNATE_Student_Cup_2020/data\")\n",
    "TRAIN_FILE = os.path.join(data_dir, \"train.csv\")\n",
    "TEST_FILE = os.path.join(data_dir, \"test.csv\")\n",
    "NUM_CLASSES = 4\n",
    "EPOCHS = 20\n",
    "NUM_SPLITS = 5"
   ]
  },
  {
   "cell_type": "code",
   "execution_count": 8,
   "metadata": {},
   "outputs": [],
   "source": [
    "num_splits = NUM_SPLITS\n",
    "df = pd.read_csv(TRAIN_FILE)\n",
    "df[\"jobflag\"] = df[\"jobflag\"] - 1\n",
    "df[\"kfold\"] = np.nan\n",
    "df = df.rename(columns={'jobflag': 'labels'})\n",
    "label = df[\"labels\"].tolist()\n",
    "\n",
    "skfold = StratifiedKFold(num_splits, shuffle=True, random_state=SEED)\n",
    "for fold, (_, valid_indexes) in enumerate(skfold.split(range(len(label)), label)):\n",
    "    for i in valid_indexes:\n",
    "        df.iat[i,3] = fold\n",
    "df.to_csv(os.path.join(os.environ[\"HOME\"], \"Workspace/learning/signate/SIGNATE_Student_Cup_2020/processed_data/01_train_folded.csv\"), index=False)"
   ]
  },
  {
   "cell_type": "code",
   "execution_count": null,
   "metadata": {},
   "outputs": [],
   "source": []
  }
 ],
 "metadata": {
  "kernelspec": {
   "display_name": "Python 3",
   "language": "python",
   "name": "python3"
  },
  "language_info": {
   "codemirror_mode": {
    "name": "ipython",
    "version": 3
   },
   "file_extension": ".py",
   "mimetype": "text/x-python",
   "name": "python",
   "nbconvert_exporter": "python",
   "pygments_lexer": "ipython3",
   "version": "3.8.5"
  },
  "toc": {
   "base_numbering": 1,
   "nav_menu": {},
   "number_sections": true,
   "sideBar": true,
   "skip_h1_title": false,
   "title_cell": "Table of Contents",
   "title_sidebar": "Contents",
   "toc_cell": false,
   "toc_position": {},
   "toc_section_display": true,
   "toc_window_display": false
  },
  "varInspector": {
   "cols": {
    "lenName": 16,
    "lenType": 16,
    "lenVar": 40
   },
   "kernels_config": {
    "python": {
     "delete_cmd_postfix": "",
     "delete_cmd_prefix": "del ",
     "library": "var_list.py",
     "varRefreshCmd": "print(var_dic_list())"
    },
    "r": {
     "delete_cmd_postfix": ") ",
     "delete_cmd_prefix": "rm(",
     "library": "var_list.r",
     "varRefreshCmd": "cat(var_dic_list()) "
    }
   },
   "types_to_exclude": [
    "module",
    "function",
    "builtin_function_or_method",
    "instance",
    "_Feature"
   ],
   "window_display": false
  }
 },
 "nbformat": 4,
 "nbformat_minor": 4
}
