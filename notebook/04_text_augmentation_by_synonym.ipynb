{
 "cells": [
  {
   "cell_type": "code",
   "execution_count": 131,
   "metadata": {},
   "outputs": [
    {
     "name": "stderr",
     "output_type": "stream",
     "text": [
      "[nltk_data] Downloading package wordnet to /home/toshiya/nltk_data...\n",
      "[nltk_data]   Package wordnet is already up-to-date!\n"
     ]
    }
   ],
   "source": [
    "import nltk\n",
    "nltk.download('wordnet')\n",
    "import pandas as pd\n",
    "import numpy as np\n",
    "import os\n",
    "from tqdm import tqdm\n",
    "from nltk.corpus import wordnet, stopwords \n",
    "import random\n",
    "from random import shuffle\n",
    "import re\n",
    "import string\n",
    "from transformers import AdamW, AutoModel, AutoTokenizer\n",
    "\n",
    "random.seed(42)"
   ]
  },
  {
   "cell_type": "markdown",
   "metadata": {},
   "source": [
    "# 実験"
   ]
  },
  {
   "cell_type": "code",
   "execution_count": 12,
   "metadata": {},
   "outputs": [],
   "source": [
    "root = \"/home/toshiya/Workspace/learning/signate/SIGNATE_Student_Cup_2020/\""
   ]
  },
  {
   "cell_type": "code",
   "execution_count": 41,
   "metadata": {},
   "outputs": [],
   "source": [
    "def preprocessing(line):\n",
    "    clean_line = \"\"\n",
    "\n",
    "    line = line.replace(\"’\", \"\")\n",
    "    line = line.replace(\"'\", \"\")\n",
    "    line = line.replace(\"-\", \" \") #replace hyphens with spaces\n",
    "    line = line.replace(\"\\t\", \" \")\n",
    "    line = line.replace(\"\\n\", \" \")\n",
    "    line = line.lower()\n",
    "\n",
    "    for char in line:\n",
    "        if char in 'qwertyuiopasdfghjklzxcvbnm ':\n",
    "            clean_line += char\n",
    "        else:\n",
    "            clean_line += ' '\n",
    "\n",
    "    clean_line = re.sub(' +',' ',clean_line) #delete extra spaces\n",
    "    if clean_line[0] == ' ':\n",
    "        clean_line = clean_line[1:]\n",
    "    return clean_line.split(' ')"
   ]
  },
  {
   "cell_type": "code",
   "execution_count": 54,
   "metadata": {},
   "outputs": [],
   "source": [
    "def synonym_replacement(words, n):\n",
    "    new_words = words.copy()\n",
    "    random_word_list = list(set([word for word in words if word not in stop_words]))\n",
    "    random.shuffle(random_word_list)\n",
    "    num_replaced = 0\n",
    "    replaced_dict = {}\n",
    "    for random_word in random_word_list:\n",
    "        synonyms = get_synonyms(random_word)\n",
    "        if len(synonyms) >= 1:\n",
    "            synonym = random.choice(list(synonyms))\n",
    "            replaced_dict[random_word] = synonym\n",
    "#             new_words = [synonym if word == random_word else word for word in new_words]\n",
    "            print(\"replaced\", random_word, \"with\", synonym)\n",
    "            num_replaced += 1\n",
    "        if num_replaced >= n: #only replace up to n words\n",
    "            break\n",
    "\n",
    "    #this is stupid but we need it, trust me\n",
    "#     sentence = ' '.join(new_words)\n",
    "#     new_words = sentence.split(' ')\n",
    "#     return new_words\n",
    "    return replaced_dict\n",
    "\n",
    "def get_synonyms(word):\n",
    "    synonyms = set()\n",
    "    for syn in wordnet.synsets(word): \n",
    "        for l in syn.lemmas(): \n",
    "            synonym = l.name().replace(\"_\", \" \").replace(\"-\", \" \").lower()\n",
    "            synonym = \"\".join([char for char in synonym if char in ' qwertyuiopasdfghjklzxcvbnm'])\n",
    "            synonyms.add(synonym) \n",
    "    if word in synonyms:\n",
    "        synonyms.remove(word)\n",
    "    return list(synonyms)"
   ]
  },
  {
   "cell_type": "code",
   "execution_count": 57,
   "metadata": {},
   "outputs": [
    {
     "data": {
      "text/plain": [
       "['executes',\n",
       " 'and',\n",
       " 'writes',\n",
       " 'portions',\n",
       " 'of',\n",
       " 'testing',\n",
       " 'plans',\n",
       " 'protocols',\n",
       " 'and',\n",
       " 'documentation',\n",
       " 'for',\n",
       " 'assigned',\n",
       " 'portion',\n",
       " 'of',\n",
       " 'application',\n",
       " 'identifies',\n",
       " 'and',\n",
       " 'debugs',\n",
       " 'issues',\n",
       " 'with',\n",
       " 'code',\n",
       " 'and',\n",
       " 'suggests',\n",
       " 'changes',\n",
       " 'or',\n",
       " 'improvements',\n",
       " '']"
      ]
     },
     "execution_count": 57,
     "metadata": {},
     "output_type": "execute_result"
    }
   ],
   "source": [
    "text = \"Executes and writes portions of testing plans, protocols, and documentation for assigned portion of application; identifies and debugs issues with code and suggests changes or improvements.\"\n",
    "text = preprocessing(text)\n",
    "text"
   ]
  },
  {
   "cell_type": "code",
   "execution_count": 58,
   "metadata": {},
   "outputs": [
    {
     "name": "stdout",
     "output_type": "stream",
     "text": [
      "replaced testing with examination\n",
      "replaced application with application program\n"
     ]
    },
    {
     "data": {
      "text/plain": [
       "{'testing': 'examination', 'application': 'application program'}"
      ]
     },
     "execution_count": 58,
     "metadata": {},
     "output_type": "execute_result"
    }
   ],
   "source": [
    "synonym_replacement(text, 2)"
   ]
  },
  {
   "cell_type": "code",
   "execution_count": 37,
   "metadata": {},
   "outputs": [],
   "source": [
    "tokenizer = AutoTokenizer.from_pretrained('bert-base-uncased')"
   ]
  },
  {
   "cell_type": "code",
   "execution_count": 40,
   "metadata": {},
   "outputs": [
    {
     "data": {
      "text/plain": [
       "'[CLS] executes and writes portions of testing plans, protocols, ; or improvements. [SEP]'"
      ]
     },
     "execution_count": 40,
     "metadata": {},
     "output_type": "execute_result"
    }
   ],
   "source": [
    "text = \"Executes and writes portions of testing plans, protocols, ; or improvements.\"\n",
    "encoded = tokenizer.encode(text)\n",
    "tokenizer.decode(encoded)"
   ]
  },
  {
   "cell_type": "markdown",
   "metadata": {},
   "source": [
    "# Augmentation"
   ]
  },
  {
   "cell_type": "markdown",
   "metadata": {},
   "source": [
    "- n個の単語を類似語で置換 synonym_replacement\n",
    "    - input: ~~synonym_replacementのための前処理を施したテキスト~~ 生テキスト\n",
    "    - output: dict(key=置換前の単語, value=置換後の単語)\n",
    "- text_augmentation\n",
    "    - synonym_replacementから得たdictに従って単語を置換し同じラベルをつけて結合\n",
    "    - input: lower処理だけを行ったテキスト\n",
    "    - output: 置換したテキスト（データフレーム）"
   ]
  },
  {
   "cell_type": "code",
   "execution_count": 71,
   "metadata": {},
   "outputs": [],
   "source": [
    "def synonym_replace(line, n):\n",
    "    clean_line = \"\"\n",
    "\n",
    "    stop_words = ['i', 'me', 'my', 'myself', 'we', 'our', \n",
    "            'ours', 'ourselves', 'you', 'your', 'yours', \n",
    "            'yourself', 'yourselves', 'he', 'him', 'his', \n",
    "            'himself', 'she', 'her', 'hers', 'herself', \n",
    "            'it', 'its', 'itself', 'they', 'them', 'their', \n",
    "            'theirs', 'themselves', 'what', 'which', 'who', \n",
    "            'whom', 'this', 'that', 'these', 'those', 'am', \n",
    "            'is', 'are', 'was', 'were', 'be', 'been', 'being', \n",
    "            'have', 'has', 'had', 'having', 'do', 'does', 'did',\n",
    "            'doing', 'a', 'an', 'the', 'and', 'but', 'if', 'or',\n",
    "            'because', 'as', 'until', 'while', 'of', 'at', \n",
    "            'by', 'for', 'with', 'about', 'against', 'between',\n",
    "            'into', 'through', 'during', 'before', 'after', \n",
    "            'above', 'below', 'to', 'from', 'up', 'down', 'in',\n",
    "            'out', 'on', 'off', 'over', 'under', 'again', \n",
    "            'further', 'then', 'once', 'here', 'there', 'when', \n",
    "            'where', 'why', 'how', 'all', 'any', 'both', 'each', \n",
    "            'few', 'more', 'most', 'other', 'some', 'such', 'no', \n",
    "            'nor', 'not', 'only', 'own', 'same', 'so', 'than', 'too', \n",
    "            'very', 's', 't', 'can', 'will', 'just', 'don', \n",
    "            'should', 'now', '']\n",
    "\n",
    "    line = line.replace(\"’\", \"\")\n",
    "    line = line.replace(\"'\", \"\")\n",
    "    line = line.replace(\"-\", \" \") #replace hyphens with spaces\n",
    "    line = line.replace(\"\\t\", \" \")\n",
    "    line = line.replace(\"\\n\", \" \")\n",
    "    line = line.lower()\n",
    "\n",
    "    for char in line:\n",
    "        if char in 'qwertyuiopasdfghjklzxcvbnm ':\n",
    "            clean_line += char\n",
    "        else:\n",
    "            clean_line += ' '\n",
    "\n",
    "    clean_line = re.sub(' +',' ',clean_line) #delete extra spaces\n",
    "    if clean_line[0] == ' ':\n",
    "        clean_line = clean_line[1:]\n",
    "\n",
    "    words = clean_line.split(' ')\n",
    "    \n",
    "    new_words = words.copy()\n",
    "    random_word_list = list(set([word for word in words if word not in stop_words]))\n",
    "    random.shuffle(random_word_list)\n",
    "    num_replaced = 0\n",
    "    replaced_dict = {}\n",
    "    for random_word in random_word_list:\n",
    "        synonyms = get_synonyms(random_word)\n",
    "        if len(synonyms) >= 1:\n",
    "            synonym = random.choice(list(synonyms))\n",
    "            replaced_dict[random_word] = synonym\n",
    "            num_replaced += 1\n",
    "        if num_replaced >= n: #only replace up to n words\n",
    "            break\n",
    "    return replaced_dict\n",
    "\n",
    "def get_synonyms(word):\n",
    "    synonyms = set()\n",
    "    for syn in wordnet.synsets(word): \n",
    "        for l in syn.lemmas(): \n",
    "            synonym = l.name().replace(\"_\", \" \").replace(\"-\", \" \").lower()\n",
    "            synonym = \"\".join([char for char in synonym if char in ' qwertyuiopasdfghjklzxcvbnm'])\n",
    "            synonyms.add(synonym) \n",
    "    if word in synonyms:\n",
    "        synonyms.remove(word)\n",
    "    return list(synonyms)"
   ]
  },
  {
   "cell_type": "code",
   "execution_count": 72,
   "metadata": {},
   "outputs": [
    {
     "data": {
      "text/plain": [
       "{'improvements': 'improvement',\n",
       " 'executes': 'carry through',\n",
       " 'writes': 'drop a line'}"
      ]
     },
     "execution_count": 72,
     "metadata": {},
     "output_type": "execute_result"
    }
   ],
   "source": [
    "text = \"Executes and writes portions of testing plans, protocols, and documentation for assigned portion of application; identifies and debugs issues with code and suggests changes or improvements.\"\n",
    "synonym_replace(text, n=3)"
   ]
  },
  {
   "cell_type": "code",
   "execution_count": 81,
   "metadata": {},
   "outputs": [],
   "source": [
    "def text_augmentation(text, replaced_dict):\n",
    "    text = text.lower()\n",
    "    words = text.split(' ')\n",
    "    new_words = words.copy()\n",
    "    \n",
    "    for target_w, replace_w in replaced_dict.items():\n",
    "        for i, w in enumerate(words):\n",
    "            if target_w == w:\n",
    "                new_words[i] = replace_w\n",
    "    new_text = ''\n",
    "    for nw in new_words:\n",
    "        new_text += nw + ' '\n",
    "    return new_text[:-1]"
   ]
  },
  {
   "cell_type": "code",
   "execution_count": 85,
   "metadata": {},
   "outputs": [
    {
     "data": {
      "text/plain": [
       "'executes and writes portions of testing plans, protocols, and software documentation for assigned portion of application; identifies and debug issues with code and suggests changes or improvements.'"
      ]
     },
     "execution_count": 85,
     "metadata": {},
     "output_type": "execute_result"
    }
   ],
   "source": [
    "text = \"Executes and writes portions of testing plans, protocols, and documentation for assigned portion of application; identifies and debugs issues with code and suggests changes or improvements.\"\n",
    "replaced_dict = synonym_replace(text, n=3)\n",
    "text_augmentation(text, replaced_dict)"
   ]
  },
  {
   "cell_type": "markdown",
   "metadata": {},
   "source": [
    "# 実行"
   ]
  },
  {
   "cell_type": "code",
   "execution_count": 123,
   "metadata": {},
   "outputs": [],
   "source": [
    "root = \"/home/toshiya/Workspace/learning/signate/SIGNATE_Student_Cup_2020/\""
   ]
  },
  {
   "cell_type": "code",
   "execution_count": 124,
   "metadata": {},
   "outputs": [
    {
     "data": {
      "text/html": [
       "<div>\n",
       "<style scoped>\n",
       "    .dataframe tbody tr th:only-of-type {\n",
       "        vertical-align: middle;\n",
       "    }\n",
       "\n",
       "    .dataframe tbody tr th {\n",
       "        vertical-align: top;\n",
       "    }\n",
       "\n",
       "    .dataframe thead th {\n",
       "        text-align: right;\n",
       "    }\n",
       "</style>\n",
       "<table border=\"1\" class=\"dataframe\">\n",
       "  <thead>\n",
       "    <tr style=\"text-align: right;\">\n",
       "      <th></th>\n",
       "      <th>id</th>\n",
       "      <th>description</th>\n",
       "      <th>jobflag</th>\n",
       "    </tr>\n",
       "  </thead>\n",
       "  <tbody>\n",
       "    <tr>\n",
       "      <th>0</th>\n",
       "      <td>0</td>\n",
       "      <td>Executes and writes portions of testing plans,...</td>\n",
       "      <td>2</td>\n",
       "    </tr>\n",
       "    <tr>\n",
       "      <th>1</th>\n",
       "      <td>1</td>\n",
       "      <td>Maintain Network Performance by assisting with...</td>\n",
       "      <td>3</td>\n",
       "    </tr>\n",
       "    <tr>\n",
       "      <th>2</th>\n",
       "      <td>2</td>\n",
       "      <td>Supports the regional compliance manager with ...</td>\n",
       "      <td>4</td>\n",
       "    </tr>\n",
       "    <tr>\n",
       "      <th>3</th>\n",
       "      <td>3</td>\n",
       "      <td>Keep up to date with local and national busine...</td>\n",
       "      <td>1</td>\n",
       "    </tr>\n",
       "    <tr>\n",
       "      <th>4</th>\n",
       "      <td>4</td>\n",
       "      <td>Assist with Service Organization Control (SOC)...</td>\n",
       "      <td>4</td>\n",
       "    </tr>\n",
       "    <tr>\n",
       "      <th>...</th>\n",
       "      <td>...</td>\n",
       "      <td>...</td>\n",
       "      <td>...</td>\n",
       "    </tr>\n",
       "    <tr>\n",
       "      <th>2926</th>\n",
       "      <td>2926</td>\n",
       "      <td>Preparation of reports for operational and man...</td>\n",
       "      <td>3</td>\n",
       "    </tr>\n",
       "    <tr>\n",
       "      <th>2927</th>\n",
       "      <td>2927</td>\n",
       "      <td>Line and/or indirect management of up to 20 st...</td>\n",
       "      <td>3</td>\n",
       "    </tr>\n",
       "    <tr>\n",
       "      <th>2928</th>\n",
       "      <td>2928</td>\n",
       "      <td>Partner with external agencies as needed</td>\n",
       "      <td>1</td>\n",
       "    </tr>\n",
       "    <tr>\n",
       "      <th>2929</th>\n",
       "      <td>2929</td>\n",
       "      <td>Design, Implement and test software for embedd...</td>\n",
       "      <td>3</td>\n",
       "    </tr>\n",
       "    <tr>\n",
       "      <th>2930</th>\n",
       "      <td>2930</td>\n",
       "      <td>Undertake to preprocess of structured and unst...</td>\n",
       "      <td>2</td>\n",
       "    </tr>\n",
       "  </tbody>\n",
       "</table>\n",
       "<p>2931 rows × 3 columns</p>\n",
       "</div>"
      ],
      "text/plain": [
       "        id                                        description  jobflag\n",
       "0        0  Executes and writes portions of testing plans,...        2\n",
       "1        1  Maintain Network Performance by assisting with...        3\n",
       "2        2  Supports the regional compliance manager with ...        4\n",
       "3        3  Keep up to date with local and national busine...        1\n",
       "4        4  Assist with Service Organization Control (SOC)...        4\n",
       "...    ...                                                ...      ...\n",
       "2926  2926  Preparation of reports for operational and man...        3\n",
       "2927  2927  Line and/or indirect management of up to 20 st...        3\n",
       "2928  2928           Partner with external agencies as needed        1\n",
       "2929  2929  Design, Implement and test software for embedd...        3\n",
       "2930  2930  Undertake to preprocess of structured and unst...        2\n",
       "\n",
       "[2931 rows x 3 columns]"
      ]
     },
     "execution_count": 124,
     "metadata": {},
     "output_type": "execute_result"
    }
   ],
   "source": [
    "train = pd.read_csv(os.path.join(root, \"data\", \"train.csv\"))\n",
    "train"
   ]
  },
  {
   "cell_type": "code",
   "execution_count": 125,
   "metadata": {},
   "outputs": [
    {
     "data": {
      "text/html": [
       "<div>\n",
       "<style scoped>\n",
       "    .dataframe tbody tr th:only-of-type {\n",
       "        vertical-align: middle;\n",
       "    }\n",
       "\n",
       "    .dataframe tbody tr th {\n",
       "        vertical-align: top;\n",
       "    }\n",
       "\n",
       "    .dataframe thead th {\n",
       "        text-align: right;\n",
       "    }\n",
       "</style>\n",
       "<table border=\"1\" class=\"dataframe\">\n",
       "  <thead>\n",
       "    <tr style=\"text-align: right;\">\n",
       "      <th></th>\n",
       "      <th>id</th>\n",
       "      <th>description</th>\n",
       "    </tr>\n",
       "    <tr>\n",
       "      <th>jobflag</th>\n",
       "      <th></th>\n",
       "      <th></th>\n",
       "    </tr>\n",
       "  </thead>\n",
       "  <tbody>\n",
       "    <tr>\n",
       "      <th>1</th>\n",
       "      <td>624</td>\n",
       "      <td>624</td>\n",
       "    </tr>\n",
       "    <tr>\n",
       "      <th>2</th>\n",
       "      <td>348</td>\n",
       "      <td>348</td>\n",
       "    </tr>\n",
       "    <tr>\n",
       "      <th>3</th>\n",
       "      <td>1376</td>\n",
       "      <td>1376</td>\n",
       "    </tr>\n",
       "    <tr>\n",
       "      <th>4</th>\n",
       "      <td>583</td>\n",
       "      <td>583</td>\n",
       "    </tr>\n",
       "  </tbody>\n",
       "</table>\n",
       "</div>"
      ],
      "text/plain": [
       "           id  description\n",
       "jobflag                   \n",
       "1         624          624\n",
       "2         348          348\n",
       "3        1376         1376\n",
       "4         583          583"
      ]
     },
     "execution_count": 125,
     "metadata": {},
     "output_type": "execute_result"
    }
   ],
   "source": [
    "train.groupby(by='jobflag').count()"
   ]
  },
  {
   "cell_type": "markdown",
   "metadata": {},
   "source": [
    "- 4クラスの分布から以下2パターンのAugmentationを考えた\n",
    "    - 1,2,4を増やして均一化\n",
    "    - 1,2を3と同じくらい増やして、4は3の2倍にする"
   ]
  },
  {
   "cell_type": "code",
   "execution_count": 126,
   "metadata": {},
   "outputs": [],
   "source": [
    "def class_augment(target_job, aug_num):\n",
    "    \"\"\"\n",
    "    target_jobのラベルのデータをaug_num個まで増やす\n",
    "    \"\"\"\n",
    "    df = train[train[\"jobflag\"] == target_job]\n",
    "    augmented_df = df.loc[:, [\"description\", \"jobflag\"]].copy()\n",
    "    \n",
    "    while len(augmented_df) < aug_num:\n",
    "        for d, j in zip(df[\"description\"], df[\"jobflag\"]):\n",
    "            if len(augmented_df) < aug_num:\n",
    "                replaced_dict = synonym_replace(d, n=3)\n",
    "                new_d = text_augmentation(d, replaced_dict)\n",
    "                tmp = pd.DataFrame({\n",
    "                    'description': [new_d],\n",
    "                    'jobflag': [j]\n",
    "                })\n",
    "                augmented_df = pd.concat([augmented_df, tmp])\n",
    "            else:\n",
    "                break\n",
    "                \n",
    "    return augmented_df"
   ]
  },
  {
   "cell_type": "markdown",
   "metadata": {},
   "source": [
    "## 均一化"
   ]
  },
  {
   "cell_type": "code",
   "execution_count": 127,
   "metadata": {},
   "outputs": [],
   "source": [
    "# 均一化\n",
    "auged_1 = class_augment(1, aug_num=1376)\n",
    "auged_2 = class_augment(2, aug_num=1376)\n",
    "auged_4 = class_augment(4, aug_num=1376)"
   ]
  },
  {
   "cell_type": "code",
   "execution_count": 128,
   "metadata": {},
   "outputs": [
    {
     "data": {
      "text/html": [
       "<div>\n",
       "<style scoped>\n",
       "    .dataframe tbody tr th:only-of-type {\n",
       "        vertical-align: middle;\n",
       "    }\n",
       "\n",
       "    .dataframe tbody tr th {\n",
       "        vertical-align: top;\n",
       "    }\n",
       "\n",
       "    .dataframe thead th {\n",
       "        text-align: right;\n",
       "    }\n",
       "</style>\n",
       "<table border=\"1\" class=\"dataframe\">\n",
       "  <thead>\n",
       "    <tr style=\"text-align: right;\">\n",
       "      <th></th>\n",
       "      <th>description</th>\n",
       "      <th>jobflag</th>\n",
       "      <th>id</th>\n",
       "    </tr>\n",
       "  </thead>\n",
       "  <tbody>\n",
       "    <tr>\n",
       "      <th>3</th>\n",
       "      <td>Keep up to date with local and national busine...</td>\n",
       "      <td>1</td>\n",
       "      <td>NaN</td>\n",
       "    </tr>\n",
       "    <tr>\n",
       "      <th>7</th>\n",
       "      <td>Must be able to work independently in a small ...</td>\n",
       "      <td>1</td>\n",
       "      <td>NaN</td>\n",
       "    </tr>\n",
       "    <tr>\n",
       "      <th>8</th>\n",
       "      <td>Work with stakeholders to identify opportuniti...</td>\n",
       "      <td>1</td>\n",
       "      <td>NaN</td>\n",
       "    </tr>\n",
       "    <tr>\n",
       "      <th>24</th>\n",
       "      <td>Undertake preprocessing of structured and unst...</td>\n",
       "      <td>1</td>\n",
       "      <td>NaN</td>\n",
       "    </tr>\n",
       "    <tr>\n",
       "      <th>27</th>\n",
       "      <td>Work with cross-functional teams to develop id...</td>\n",
       "      <td>1</td>\n",
       "      <td>NaN</td>\n",
       "    </tr>\n",
       "    <tr>\n",
       "      <th>...</th>\n",
       "      <td>...</td>\n",
       "      <td>...</td>\n",
       "      <td>...</td>\n",
       "    </tr>\n",
       "    <tr>\n",
       "      <th>0</th>\n",
       "      <td>get and wield cryptic product knowledge and sk...</td>\n",
       "      <td>4</td>\n",
       "      <td>NaN</td>\n",
       "    </tr>\n",
       "    <tr>\n",
       "      <th>0</th>\n",
       "      <td>day to day administration/development of sytel...</td>\n",
       "      <td>4</td>\n",
       "      <td>NaN</td>\n",
       "    </tr>\n",
       "    <tr>\n",
       "      <th>0</th>\n",
       "      <td>direction of project alter petition and scope ...</td>\n",
       "      <td>4</td>\n",
       "      <td>NaN</td>\n",
       "    </tr>\n",
       "    <tr>\n",
       "      <th>0</th>\n",
       "      <td>body of work with the business stakeholders, o...</td>\n",
       "      <td>4</td>\n",
       "      <td>NaN</td>\n",
       "    </tr>\n",
       "    <tr>\n",
       "      <th>0</th>\n",
       "      <td>develop skills and knowledge by continuing edu...</td>\n",
       "      <td>4</td>\n",
       "      <td>NaN</td>\n",
       "    </tr>\n",
       "  </tbody>\n",
       "</table>\n",
       "<p>5504 rows × 3 columns</p>\n",
       "</div>"
      ],
      "text/plain": [
       "                                          description  jobflag  id\n",
       "3   Keep up to date with local and national busine...        1 NaN\n",
       "7   Must be able to work independently in a small ...        1 NaN\n",
       "8   Work with stakeholders to identify opportuniti...        1 NaN\n",
       "24  Undertake preprocessing of structured and unst...        1 NaN\n",
       "27  Work with cross-functional teams to develop id...        1 NaN\n",
       "..                                                ...      ...  ..\n",
       "0   get and wield cryptic product knowledge and sk...        4 NaN\n",
       "0   day to day administration/development of sytel...        4 NaN\n",
       "0   direction of project alter petition and scope ...        4 NaN\n",
       "0   body of work with the business stakeholders, o...        4 NaN\n",
       "0   develop skills and knowledge by continuing edu...        4 NaN\n",
       "\n",
       "[5504 rows x 3 columns]"
      ]
     },
     "execution_count": 128,
     "metadata": {},
     "output_type": "execute_result"
    }
   ],
   "source": [
    "auged_df = pd.DataFrame()\n",
    "for a in [auged_1, auged_2, train[train[\"jobflag\"]==3], auged_4]:\n",
    "    auged_df = pd.concat([auged_df, a])\n",
    "auged_df"
   ]
  },
  {
   "cell_type": "code",
   "execution_count": 129,
   "metadata": {},
   "outputs": [
    {
     "data": {
      "text/html": [
       "<div>\n",
       "<style scoped>\n",
       "    .dataframe tbody tr th:only-of-type {\n",
       "        vertical-align: middle;\n",
       "    }\n",
       "\n",
       "    .dataframe tbody tr th {\n",
       "        vertical-align: top;\n",
       "    }\n",
       "\n",
       "    .dataframe thead th {\n",
       "        text-align: right;\n",
       "    }\n",
       "</style>\n",
       "<table border=\"1\" class=\"dataframe\">\n",
       "  <thead>\n",
       "    <tr style=\"text-align: right;\">\n",
       "      <th></th>\n",
       "      <th>description</th>\n",
       "      <th>jobflag</th>\n",
       "      <th>id</th>\n",
       "    </tr>\n",
       "  </thead>\n",
       "  <tbody>\n",
       "    <tr>\n",
       "      <th>3</th>\n",
       "      <td>Keep up to date with local and national busine...</td>\n",
       "      <td>1</td>\n",
       "      <td>0</td>\n",
       "    </tr>\n",
       "    <tr>\n",
       "      <th>7</th>\n",
       "      <td>Must be able to work independently in a small ...</td>\n",
       "      <td>1</td>\n",
       "      <td>1</td>\n",
       "    </tr>\n",
       "    <tr>\n",
       "      <th>8</th>\n",
       "      <td>Work with stakeholders to identify opportuniti...</td>\n",
       "      <td>1</td>\n",
       "      <td>2</td>\n",
       "    </tr>\n",
       "    <tr>\n",
       "      <th>24</th>\n",
       "      <td>Undertake preprocessing of structured and unst...</td>\n",
       "      <td>1</td>\n",
       "      <td>3</td>\n",
       "    </tr>\n",
       "    <tr>\n",
       "      <th>27</th>\n",
       "      <td>Work with cross-functional teams to develop id...</td>\n",
       "      <td>1</td>\n",
       "      <td>4</td>\n",
       "    </tr>\n",
       "    <tr>\n",
       "      <th>...</th>\n",
       "      <td>...</td>\n",
       "      <td>...</td>\n",
       "      <td>...</td>\n",
       "    </tr>\n",
       "    <tr>\n",
       "      <th>0</th>\n",
       "      <td>get and wield cryptic product knowledge and sk...</td>\n",
       "      <td>4</td>\n",
       "      <td>5499</td>\n",
       "    </tr>\n",
       "    <tr>\n",
       "      <th>0</th>\n",
       "      <td>day to day administration/development of sytel...</td>\n",
       "      <td>4</td>\n",
       "      <td>5500</td>\n",
       "    </tr>\n",
       "    <tr>\n",
       "      <th>0</th>\n",
       "      <td>direction of project alter petition and scope ...</td>\n",
       "      <td>4</td>\n",
       "      <td>5501</td>\n",
       "    </tr>\n",
       "    <tr>\n",
       "      <th>0</th>\n",
       "      <td>body of work with the business stakeholders, o...</td>\n",
       "      <td>4</td>\n",
       "      <td>5502</td>\n",
       "    </tr>\n",
       "    <tr>\n",
       "      <th>0</th>\n",
       "      <td>develop skills and knowledge by continuing edu...</td>\n",
       "      <td>4</td>\n",
       "      <td>5503</td>\n",
       "    </tr>\n",
       "  </tbody>\n",
       "</table>\n",
       "<p>5504 rows × 3 columns</p>\n",
       "</div>"
      ],
      "text/plain": [
       "                                          description  jobflag    id\n",
       "3   Keep up to date with local and national busine...        1     0\n",
       "7   Must be able to work independently in a small ...        1     1\n",
       "8   Work with stakeholders to identify opportuniti...        1     2\n",
       "24  Undertake preprocessing of structured and unst...        1     3\n",
       "27  Work with cross-functional teams to develop id...        1     4\n",
       "..                                                ...      ...   ...\n",
       "0   get and wield cryptic product knowledge and sk...        4  5499\n",
       "0   day to day administration/development of sytel...        4  5500\n",
       "0   direction of project alter petition and scope ...        4  5501\n",
       "0   body of work with the business stakeholders, o...        4  5502\n",
       "0   develop skills and knowledge by continuing edu...        4  5503\n",
       "\n",
       "[5504 rows x 3 columns]"
      ]
     },
     "execution_count": 129,
     "metadata": {},
     "output_type": "execute_result"
    }
   ],
   "source": [
    "# IDを振り直す\n",
    "auged_df[\"id\"] = list(range(len(auged_df)))\n",
    "auged_df"
   ]
  },
  {
   "cell_type": "code",
   "execution_count": 130,
   "metadata": {},
   "outputs": [],
   "source": [
    "# 保存\n",
    "auged_df.to_csv(os.path.join(root, \"processed_data\", \"02_train_augmented_balanced.csv\"), index=False)"
   ]
  },
  {
   "cell_type": "markdown",
   "metadata": {},
   "source": [
    "## テストデータの推定分布に合わせる"
   ]
  },
  {
   "cell_type": "code",
   "execution_count": 135,
   "metadata": {},
   "outputs": [
    {
     "data": {
      "text/plain": [
       "array([1611.31594203, 1276.28985507, 1376.        , 2688.18550725])"
      ]
     },
     "execution_count": 135,
     "metadata": {},
     "output_type": "execute_result"
    }
   ],
   "source": [
    "nums = np.array([404, 320, 345, 674])\n",
    "ratio = nums / np.sum(nums)\n",
    "ratio = ratio / ratio[2]\n",
    "augment_num = ratio * 1376\n",
    "augment_num"
   ]
  },
  {
   "cell_type": "code",
   "execution_count": 136,
   "metadata": {},
   "outputs": [],
   "source": [
    "auged_1 = class_augment(1, aug_num=1611)\n",
    "auged_2 = class_augment(2, aug_num=1276)\n",
    "auged_4 = class_augment(4, aug_num=2688)\n",
    "\n",
    "auged_df = pd.DataFrame()\n",
    "for a in [auged_1, auged_2, train[train[\"jobflag\"]==3], auged_4]:\n",
    "    auged_df = pd.concat([auged_df, a])\n",
    "\n",
    "auged_df[\"id\"] = list(range(len(auged_df)))"
   ]
  },
  {
   "cell_type": "code",
   "execution_count": 139,
   "metadata": {},
   "outputs": [],
   "source": [
    "auged_df.to_csv(os.path.join(root, \"processed_data\", \"02_train_augmented_imbalanced.csv\"), index=False)"
   ]
  },
  {
   "cell_type": "code",
   "execution_count": null,
   "metadata": {},
   "outputs": [],
   "source": []
  }
 ],
 "metadata": {
  "kernelspec": {
   "display_name": "Python 3",
   "language": "python",
   "name": "python3"
  },
  "language_info": {
   "codemirror_mode": {
    "name": "ipython",
    "version": 3
   },
   "file_extension": ".py",
   "mimetype": "text/x-python",
   "name": "python",
   "nbconvert_exporter": "python",
   "pygments_lexer": "ipython3",
   "version": "3.8.5"
  },
  "toc": {
   "base_numbering": 1,
   "nav_menu": {},
   "number_sections": true,
   "sideBar": true,
   "skip_h1_title": false,
   "title_cell": "Table of Contents",
   "title_sidebar": "Contents",
   "toc_cell": false,
   "toc_position": {},
   "toc_section_display": true,
   "toc_window_display": false
  },
  "varInspector": {
   "cols": {
    "lenName": 16,
    "lenType": 16,
    "lenVar": 40
   },
   "kernels_config": {
    "python": {
     "delete_cmd_postfix": "",
     "delete_cmd_prefix": "del ",
     "library": "var_list.py",
     "varRefreshCmd": "print(var_dic_list())"
    },
    "r": {
     "delete_cmd_postfix": ") ",
     "delete_cmd_prefix": "rm(",
     "library": "var_list.r",
     "varRefreshCmd": "cat(var_dic_list()) "
    }
   },
   "types_to_exclude": [
    "module",
    "function",
    "builtin_function_or_method",
    "instance",
    "_Feature"
   ],
   "window_display": false
  }
 },
 "nbformat": 4,
 "nbformat_minor": 4
}
